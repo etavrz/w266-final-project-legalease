{
  "nbformat": 4,
  "nbformat_minor": 0,
  "metadata": {
    "colab": {
      "provenance": [],
      "machine_shape": "hm",
      "gpuType": "T4"
    },
    "kernelspec": {
      "name": "python3",
      "display_name": "Python 3"
    },
    "language_info": {
      "name": "python"
    },
    "accelerator": "GPU"
  },
  "cells": [
    {
      "cell_type": "code",
      "source": [
        "from google.colab import drive\n",
        "drive.mount(\"/content/drive/\")"
      ],
      "metadata": {
        "colab": {
          "base_uri": "https://localhost:8080/"
        },
        "id": "7WurI1R7LYjj",
        "outputId": "06edd561-22fc-4106-cc80-fb4fa1fb3504"
      },
      "execution_count": null,
      "outputs": [
        {
          "output_type": "stream",
          "name": "stdout",
          "text": [
            "Mounted at /content/drive/\n"
          ]
        }
      ]
    },
    {
      "cell_type": "code",
      "source": [
        "!pip install transformers datasets nltk textstat --quiet\n"
      ],
      "metadata": {
        "colab": {
          "base_uri": "https://localhost:8080/"
        },
        "id": "i1rv8j8TbBNT",
        "outputId": "f6c8e9c0-4715-41b0-c5b5-2d2cab46825f"
      },
      "execution_count": null,
      "outputs": [
        {
          "output_type": "stream",
          "name": "stdout",
          "text": [
            "\u001b[2K     \u001b[90m━━━━━━━━━━━━━━━━━━━━━━━━━━━━━━━━━━━━━━━━\u001b[0m \u001b[32m510.5/510.5 kB\u001b[0m \u001b[31m6.8 MB/s\u001b[0m eta \u001b[36m0:00:00\u001b[0m\n",
            "\u001b[2K     \u001b[90m━━━━━━━━━━━━━━━━━━━━━━━━━━━━━━━━━━━━━━━━\u001b[0m \u001b[32m105.1/105.1 kB\u001b[0m \u001b[31m8.5 MB/s\u001b[0m eta \u001b[36m0:00:00\u001b[0m\n",
            "\u001b[2K     \u001b[90m━━━━━━━━━━━━━━━━━━━━━━━━━━━━━━━━━━━━━━━━\u001b[0m \u001b[32m116.3/116.3 kB\u001b[0m \u001b[31m9.6 MB/s\u001b[0m eta \u001b[36m0:00:00\u001b[0m\n",
            "\u001b[2K     \u001b[90m━━━━━━━━━━━━━━━━━━━━━━━━━━━━━━━━━━━━━━━━\u001b[0m \u001b[32m194.1/194.1 kB\u001b[0m \u001b[31m12.4 MB/s\u001b[0m eta \u001b[36m0:00:00\u001b[0m\n",
            "\u001b[2K     \u001b[90m━━━━━━━━━━━━━━━━━━━━━━━━━━━━━━━━━━━━━━━━\u001b[0m \u001b[32m134.8/134.8 kB\u001b[0m \u001b[31m12.1 MB/s\u001b[0m eta \u001b[36m0:00:00\u001b[0m\n",
            "\u001b[2K     \u001b[90m━━━━━━━━━━━━━━━━━━━━━━━━━━━━━━━━━━━━━━━━\u001b[0m \u001b[32m2.0/2.0 MB\u001b[0m \u001b[31m23.7 MB/s\u001b[0m eta \u001b[36m0:00:00\u001b[0m\n",
            "\u001b[?25h"
          ]
        }
      ]
    },
    {
      "cell_type": "code",
      "source": [
        "from datasets import load_dataset\n",
        "from transformers import AutoModelForSeq2SeqLM, pipeline\n",
        "import pandas as pd\n",
        "import pprint\n",
        "import string\n",
        "import nltk\n",
        "import textstat\n",
        "nltk.download(\"punkt\")\n",
        "nltk.download('stopwords')\n",
        "nltk.download('wordnet')\n",
        "\n",
        "from nltk.tokenize import sent_tokenize, regexp_tokenize\n"
      ],
      "metadata": {
        "id": "ip7OEqDhageU",
        "colab": {
          "base_uri": "https://localhost:8080/"
        },
        "outputId": "3de681bc-16ac-42db-b18d-07557f4fc1b6"
      },
      "execution_count": null,
      "outputs": [
        {
          "output_type": "stream",
          "name": "stderr",
          "text": [
            "[nltk_data] Downloading package punkt to /root/nltk_data...\n",
            "[nltk_data]   Package punkt is already up-to-date!\n",
            "[nltk_data] Downloading package stopwords to /root/nltk_data...\n",
            "[nltk_data]   Package stopwords is already up-to-date!\n",
            "[nltk_data] Downloading package wordnet to /root/nltk_data...\n",
            "[nltk_data]   Package wordnet is already up-to-date!\n"
          ]
        }
      ]
    },
    {
      "cell_type": "code",
      "source": [
        "df = load_dataset(\"jordanfan/processed_us_congress_117_bills\")\n",
        "df_train = pd.DataFrame(df[\"train\"])\n",
        "df_train[\"group\"] = \"train\"\n",
        "df_val = pd.DataFrame(df[\"val\"])\n",
        "df_val[\"group\"] = \"val\"\n",
        "df_test = pd.DataFrame(df[\"test\"])\n",
        "df_test[\"group\"] = \"test\"\n",
        "df_all = pd.concat([df_train, df_val, df_test])"
      ],
      "metadata": {
        "id": "iaHTjIcKqVSz"
      },
      "execution_count": null,
      "outputs": []
    },
    {
      "cell_type": "code",
      "source": [
        "df_all.columns"
      ],
      "metadata": {
        "colab": {
          "base_uri": "https://localhost:8080/"
        },
        "id": "JUItL56qOEqI",
        "outputId": "240f8b85-af10-4bf0-e21f-b4443e5390cf"
      },
      "execution_count": null,
      "outputs": [
        {
          "output_type": "execute_result",
          "data": {
            "text/plain": [
              "Index(['Unnamed: 0', 'index', 'id', 'policy_areas', 'cur_summary', 'cur_text',\n",
              "       'title', 'titles_official', 'titles_short', 'sponsor_name',\n",
              "       'sponsor_party', 'sponsor_state', 'cleaned_summary', 'extracted_text',\n",
              "       'group'],\n",
              "      dtype='object')"
            ]
          },
          "metadata": {},
          "execution_count": 7
        }
      ]
    },
    {
      "cell_type": "code",
      "source": [
        "df_all[\"cur_text_len\"] = df_all[\"cur_text\"].apply(lambda x: len(regexp_tokenize(x, \"\\w+\")))\n",
        "df_all[\"cleaned_summary_len\"] = df_all[\"cleaned_summary\"].apply(lambda x: len(regexp_tokenize(x, \"\\w+\")))\n",
        "df_all[\"cur_text_fre\"] = df_all[\"cur_text\"].apply(lambda x: textstat.flesch_reading_ease(x))\n",
        "df_all[\"cleaned_summary_fre\"] = df_all[\"cleaned_summary\"].apply(lambda x: textstat.flesch_reading_ease(x))\n"
      ],
      "metadata": {
        "id": "fGV_fpwRNstq"
      },
      "execution_count": null,
      "outputs": []
    },
    {
      "cell_type": "code",
      "source": [
        "cols = [\"group\", \"index\", \"policy_areas\", \"cur_text_len\", \"cleaned_summary_len\", \"cur_text_fre\", \"cleaned_summary_fre\"]\n",
        "df_all[cols].to_excel(\"/content/drive/MyDrive/Colab Notebooks/W266/congress-117-vis-stats.xlsx\", index=False)"
      ],
      "metadata": {
        "id": "7Np7XiBFPQm2"
      },
      "execution_count": null,
      "outputs": []
    }
  ]
}