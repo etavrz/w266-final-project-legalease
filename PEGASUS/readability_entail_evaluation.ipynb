{
  "cells": [
    {
      "cell_type": "markdown",
      "source": [
        "# Readability and Entailment Evaluation"
      ],
      "metadata": {
        "id": "1cWPa_pAIacm"
      }
    },
    {
      "cell_type": "markdown",
      "source": [
        "## Setup"
      ],
      "metadata": {
        "id": "qr4rlEayIiYZ"
      }
    },
    {
      "cell_type": "code",
      "source": [
        "from google.colab import drive\n",
        "drive.mount('/content/drive')"
      ],
      "metadata": {
        "colab": {
          "base_uri": "https://localhost:8080/"
        },
        "id": "knbwtulxO8Sk",
        "outputId": "04d9762a-97fb-497f-82cf-963198b84496"
      },
      "execution_count": null,
      "outputs": [
        {
          "output_type": "stream",
          "name": "stdout",
          "text": [
            "Drive already mounted at /content/drive; to attempt to forcibly remount, call drive.mount(\"/content/drive\", force_remount=True).\n"
          ]
        }
      ]
    },
    {
      "cell_type": "code",
      "execution_count": null,
      "metadata": {
        "id": "i1rv8j8TbBNT",
        "colab": {
          "base_uri": "https://localhost:8080/"
        },
        "outputId": "b7e4647d-7156-4c59-ea4c-7c8d7620ff3f"
      },
      "outputs": [
        {
          "output_type": "stream",
          "name": "stdout",
          "text": [
            "  Preparing metadata (setup.py) ... \u001b[?25l\u001b[?25hdone\n"
          ]
        }
      ],
      "source": [
        "!pip install -q evaluate transformers datasets rouge_score jiwer\n",
        "!pip install -q git+https://github.com/google-research/bleurt.git\n",
        "!pip install -q nltk textstat peft"
      ]
    },
    {
      "cell_type": "code",
      "execution_count": null,
      "metadata": {
        "id": "ip7OEqDhageU",
        "colab": {
          "base_uri": "https://localhost:8080/"
        },
        "outputId": "17bd310a-af0f-44dc-eb69-31fa6dd6783d"
      },
      "outputs": [
        {
          "output_type": "stream",
          "name": "stderr",
          "text": [
            "[nltk_data] Downloading package punkt to /root/nltk_data...\n",
            "[nltk_data]   Package punkt is already up-to-date!\n"
          ]
        }
      ],
      "source": [
        "import os\n",
        "from datasets import load_dataset\n",
        "from evaluate import evaluator\n",
        "import evaluate\n",
        "from transformers import AutoModelForSeq2SeqLM, pipeline, AutoTokenizer, AutoModelForSequenceClassification\n",
        "from peft import AutoPeftModelForSeq2SeqLM\n",
        "import nltk\n",
        "nltk.download('punkt')\n",
        "import textstat\n",
        "import torch\n",
        "import pprint\n",
        "import numpy as np\n",
        "import pandas as pd"
      ]
    },
    {
      "cell_type": "code",
      "execution_count": null,
      "metadata": {
        "id": "RiNKjPdyqGsE"
      },
      "outputs": [],
      "source": [
        "with open(\"/content/drive/MyDrive/colab-notebooks/w266/hf.txt\", \"r\") as f:\n",
        "    HF_TOKEN = f.read()\n",
        "\n",
        "os.environ[\"HF_TOKEN\"] = HF_TOKEN\n",
        "\n",
        "DATASET = \"jordanfan/processed_us_congress_117_bills_v3\"\n",
        "MODEL = \"google/pegasus-xsum\"\n",
        "PEFT = False\n",
        "REVISION = \"main\"\n",
        "\n",
        "INPUT_COLUMN = \"cur_text\"\n",
        "LABEL_COLUMN = \"cleaned_summary\"\n",
        "NEW_COLUMN = \"generated_summary\"\n",
        "\n",
        "DEVICE = torch.device('cuda' if torch.cuda.is_available() else 'cpu')"
      ]
    },
    {
      "cell_type": "markdown",
      "source": [
        "## Generation/Entailment Functions"
      ],
      "metadata": {
        "id": "0GjbVZHJIl-m"
      }
    },
    {
      "cell_type": "code",
      "source": [
        "entailment_tokenizer = AutoTokenizer.from_pretrained(\"khalidalt/DeBERTa-v3-large-mnli\")\n",
        "entailment_model = AutoModelForSequenceClassification.from_pretrained(\"khalidalt/DeBERTa-v3-large-mnli\")"
      ],
      "metadata": {
        "colab": {
          "base_uri": "https://localhost:8080/"
        },
        "id": "eLb8mHgrXDRK",
        "outputId": "69652381-ad87-4c4e-dda4-2137447c6a1b"
      },
      "execution_count": null,
      "outputs": [
        {
          "output_type": "stream",
          "name": "stderr",
          "text": [
            "/usr/local/lib/python3.10/dist-packages/huggingface_hub/utils/_token.py:88: UserWarning: \n",
            "The secret `HF_TOKEN` does not exist in your Colab secrets.\n",
            "To authenticate with the Hugging Face Hub, create a token in your settings tab (https://huggingface.co/settings/tokens), set it as secret in your Google Colab and restart your session.\n",
            "You will be able to reuse this secret in all of your notebooks.\n",
            "Please note that authentication is recommended but still optional to access public models or datasets.\n",
            "  warnings.warn(\n",
            "/usr/local/lib/python3.10/dist-packages/transformers/convert_slow_tokenizer.py:550: UserWarning: The sentencepiece tokenizer that you are converting to a fast tokenizer uses the byte fallback option which is not implemented in the fast tokenizers. In practice this means that the fast version of the tokenizer can produce unknown tokens whereas the sentencepiece version would have converted these unknown tokens into a sequence of byte tokens matching the original piece of text.\n",
            "  warnings.warn(\n"
          ]
        }
      ]
    },
    {
      "cell_type": "code",
      "source": [
        "def calculate_entailment(\n",
        "    premise,\n",
        "    hypothesis,\n",
        "    label_names = [\"entailment\", \"neutral\", \"contradiction\"]\n",
        "):\n",
        "  input = entailment_tokenizer(premise, hypothesis, truncation=True, return_tensors=\"pt\")\n",
        "  input.to(DEVICE)\n",
        "  entailment_model.to(DEVICE)\n",
        "  output = entailment_model(input[\"input_ids\"])  # device = \"cuda:0\" or \"cpu\"\n",
        "\n",
        "  prediction = torch.softmax(output[\"logits\"][0], -1)\n",
        "\n",
        "  return label_names[prediction.argmax(0).tolist()]\n",
        "\n",
        "def encode_decode(df):\n",
        "    inputs = tokenizer(df[INPUT_COLUMN], return_tensors = \"pt\", max_length = 512, truncation=True)\n",
        "    inputs.to(DEVICE)\n",
        "    summary_ids = model.generate(input_ids=inputs[\"input_ids\"], max_length = 128, num_beams = 4)\n",
        "    result = tokenizer.decode(summary_ids[0], skip_special_tokens=True)\n",
        "    return {NEW_COLUMN: result}"
      ],
      "metadata": {
        "id": "us8nO_Jny3AU"
      },
      "execution_count": null,
      "outputs": []
    },
    {
      "cell_type": "markdown",
      "source": [
        "# Data, Model, and Mapping"
      ],
      "metadata": {
        "id": "2DYLkQ6uIrco"
      }
    },
    {
      "cell_type": "code",
      "execution_count": null,
      "metadata": {
        "id": "iaHTjIcKqVSz"
      },
      "outputs": [],
      "source": [
        "dataset_test = load_dataset(DATASET, split=\"test\")\n",
        "\n",
        "# Remove irrelevant columns\n",
        "cols_to_keep = [\"index\", \"policy_areas\", INPUT_COLUMN, LABEL_COLUMN]\n",
        "cols_to_remove = [col for col in dataset_test.column_names if col not in cols_to_keep]\n",
        "dataset_test = dataset_test.remove_columns(cols_to_remove)"
      ]
    },
    {
      "cell_type": "code",
      "source": [
        "if PEFT:\n",
        "  model = AutoPeftModelForSeq2SeqLM.from_pretrained(MODEL, revision=REVISION)\n",
        "else:\n",
        "  model = AutoModelForSeq2SeqLM.from_pretrained(MODEL)\n",
        "\n",
        "model.to(DEVICE)\n",
        "tokenizer = AutoTokenizer.from_pretrained(MODEL, revision=REVISION, model_max_length=512)"
      ],
      "metadata": {
        "id": "ojo8ZnUJZrcF",
        "colab": {
          "base_uri": "https://localhost:8080/"
        },
        "outputId": "53cfbcc2-5136-4abb-bc8f-9a920fe1e58b"
      },
      "execution_count": null,
      "outputs": [
        {
          "output_type": "stream",
          "name": "stderr",
          "text": [
            "Some weights of PegasusForConditionalGeneration were not initialized from the model checkpoint at google/pegasus-xsum and are newly initialized: ['model.decoder.embed_positions.weight', 'model.encoder.embed_positions.weight']\n",
            "You should probably TRAIN this model on a down-stream task to be able to use it for predictions and inference.\n"
          ]
        }
      ]
    },
    {
      "cell_type": "code",
      "source": [
        "dataset_test = dataset_test.map(encode_decode)\n",
        "dataset_test"
      ],
      "metadata": {
        "colab": {
          "base_uri": "https://localhost:8080/",
          "height": 118,
          "referenced_widgets": [
            "4b4001eca7dd42cfb8b49ee715bbee35",
            "fa1b7f0549ae4cf5b2e2c4098edd728b",
            "6b918c26b750415496d0b89bfc5e8e0f",
            "b939654f692445d9bafc060e304d5d83",
            "1c500863533549a78365c0ac8ee0648d",
            "585837866e2d4adeb8b03c8411ff1607",
            "43ab389bcc0045618e5e486d91d2e9b9",
            "a2a3ff7094a9499eb13f8d894dbe099c",
            "2fe4276d7cd8416799a6b01c48e7d33b",
            "a1379031079a42b39a9581a6c620806c",
            "fedbaef3476c402185e3c7e59c54dfff"
          ]
        },
        "id": "co17n_cwPitt",
        "outputId": "34ee1829-0a7f-4014-90fa-4e85a3e5c463"
      },
      "execution_count": null,
      "outputs": [
        {
          "output_type": "display_data",
          "data": {
            "text/plain": [
              "Map:   0%|          | 0/377 [00:00<?, ? examples/s]"
            ],
            "application/vnd.jupyter.widget-view+json": {
              "version_major": 2,
              "version_minor": 0,
              "model_id": "4b4001eca7dd42cfb8b49ee715bbee35"
            }
          },
          "metadata": {}
        },
        {
          "output_type": "execute_result",
          "data": {
            "text/plain": [
              "Dataset({\n",
              "    features: ['index', 'policy_areas', 'cur_text', 'cleaned_summary', 'generated_summary'],\n",
              "    num_rows: 377\n",
              "})"
            ]
          },
          "metadata": {},
          "execution_count": 9
        }
      ]
    },
    {
      "cell_type": "markdown",
      "source": [
        "## Calculate Readability and Entailment"
      ],
      "metadata": {
        "id": "_cNP0oxTIU7D"
      }
    },
    {
      "cell_type": "code",
      "source": [
        "readability_metrics = pd.Series(dataset_test[NEW_COLUMN]).map(lambda x: textstat.flesch_reading_ease(x))\n",
        "\n",
        "print(f'Mean: {np.mean(readability_metrics)}')\n",
        "print(f'Median: {np.median(readability_metrics)}')\n",
        "print(f'Std: {np.std(readability_metrics)}')"
      ],
      "metadata": {
        "id": "a931mt9qPsSM",
        "colab": {
          "base_uri": "https://localhost:8080/"
        },
        "outputId": "072f45bf-0d38-4e06-fd4e-a3370e165742"
      },
      "execution_count": null,
      "outputs": [
        {
          "output_type": "stream",
          "name": "stdout",
          "text": [
            "Mean: 47.38140583554377\n",
            "Median: 44.41\n",
            "Std: 30.047931883749833\n"
          ]
        }
      ]
    },
    {
      "cell_type": "code",
      "source": [
        "results = pd.DataFrame(dataset_test).\\\n",
        "  apply(lambda x: calculate_entailment(x[LABEL_COLUMN], x[NEW_COLUMN]), axis = 1).\\\n",
        "  value_counts(normalize = True)\n",
        "\n",
        "print(results)"
      ],
      "metadata": {
        "colab": {
          "base_uri": "https://localhost:8080/"
        },
        "id": "nq_P4Ej-VMOO",
        "outputId": "3153f05d-756c-40d4-9ec0-1ee466e773a9"
      },
      "execution_count": null,
      "outputs": [
        {
          "output_type": "stream",
          "name": "stdout",
          "text": [
            "neutral          0.859416\n",
            "entailment       0.122016\n",
            "contradiction    0.018568\n",
            "Name: proportion, dtype: float64\n"
          ]
        }
      ]
    }
  ],
  "metadata": {
    "colab": {
      "machine_shape": "hm",
      "provenance": [],
      "gpuType": "T4"
    },
    "kernelspec": {
      "display_name": "Python 3",
      "name": "python3"
    },
    "language_info": {
      "name": "python"
    },
    "widgets": {
      "application/vnd.jupyter.widget-state+json": {
        "4b4001eca7dd42cfb8b49ee715bbee35": {
          "model_module": "@jupyter-widgets/controls",
          "model_name": "HBoxModel",
          "model_module_version": "1.5.0",
          "state": {
            "_dom_classes": [],
            "_model_module": "@jupyter-widgets/controls",
            "_model_module_version": "1.5.0",
            "_model_name": "HBoxModel",
            "_view_count": null,
            "_view_module": "@jupyter-widgets/controls",
            "_view_module_version": "1.5.0",
            "_view_name": "HBoxView",
            "box_style": "",
            "children": [
              "IPY_MODEL_fa1b7f0549ae4cf5b2e2c4098edd728b",
              "IPY_MODEL_6b918c26b750415496d0b89bfc5e8e0f",
              "IPY_MODEL_b939654f692445d9bafc060e304d5d83"
            ],
            "layout": "IPY_MODEL_1c500863533549a78365c0ac8ee0648d"
          }
        },
        "fa1b7f0549ae4cf5b2e2c4098edd728b": {
          "model_module": "@jupyter-widgets/controls",
          "model_name": "HTMLModel",
          "model_module_version": "1.5.0",
          "state": {
            "_dom_classes": [],
            "_model_module": "@jupyter-widgets/controls",
            "_model_module_version": "1.5.0",
            "_model_name": "HTMLModel",
            "_view_count": null,
            "_view_module": "@jupyter-widgets/controls",
            "_view_module_version": "1.5.0",
            "_view_name": "HTMLView",
            "description": "",
            "description_tooltip": null,
            "layout": "IPY_MODEL_585837866e2d4adeb8b03c8411ff1607",
            "placeholder": "​",
            "style": "IPY_MODEL_43ab389bcc0045618e5e486d91d2e9b9",
            "value": "Map: 100%"
          }
        },
        "6b918c26b750415496d0b89bfc5e8e0f": {
          "model_module": "@jupyter-widgets/controls",
          "model_name": "FloatProgressModel",
          "model_module_version": "1.5.0",
          "state": {
            "_dom_classes": [],
            "_model_module": "@jupyter-widgets/controls",
            "_model_module_version": "1.5.0",
            "_model_name": "FloatProgressModel",
            "_view_count": null,
            "_view_module": "@jupyter-widgets/controls",
            "_view_module_version": "1.5.0",
            "_view_name": "ProgressView",
            "bar_style": "success",
            "description": "",
            "description_tooltip": null,
            "layout": "IPY_MODEL_a2a3ff7094a9499eb13f8d894dbe099c",
            "max": 377,
            "min": 0,
            "orientation": "horizontal",
            "style": "IPY_MODEL_2fe4276d7cd8416799a6b01c48e7d33b",
            "value": 377
          }
        },
        "b939654f692445d9bafc060e304d5d83": {
          "model_module": "@jupyter-widgets/controls",
          "model_name": "HTMLModel",
          "model_module_version": "1.5.0",
          "state": {
            "_dom_classes": [],
            "_model_module": "@jupyter-widgets/controls",
            "_model_module_version": "1.5.0",
            "_model_name": "HTMLModel",
            "_view_count": null,
            "_view_module": "@jupyter-widgets/controls",
            "_view_module_version": "1.5.0",
            "_view_name": "HTMLView",
            "description": "",
            "description_tooltip": null,
            "layout": "IPY_MODEL_a1379031079a42b39a9581a6c620806c",
            "placeholder": "​",
            "style": "IPY_MODEL_fedbaef3476c402185e3c7e59c54dfff",
            "value": " 377/377 [04:55&lt;00:00,  1.36 examples/s]"
          }
        },
        "1c500863533549a78365c0ac8ee0648d": {
          "model_module": "@jupyter-widgets/base",
          "model_name": "LayoutModel",
          "model_module_version": "1.2.0",
          "state": {
            "_model_module": "@jupyter-widgets/base",
            "_model_module_version": "1.2.0",
            "_model_name": "LayoutModel",
            "_view_count": null,
            "_view_module": "@jupyter-widgets/base",
            "_view_module_version": "1.2.0",
            "_view_name": "LayoutView",
            "align_content": null,
            "align_items": null,
            "align_self": null,
            "border": null,
            "bottom": null,
            "display": null,
            "flex": null,
            "flex_flow": null,
            "grid_area": null,
            "grid_auto_columns": null,
            "grid_auto_flow": null,
            "grid_auto_rows": null,
            "grid_column": null,
            "grid_gap": null,
            "grid_row": null,
            "grid_template_areas": null,
            "grid_template_columns": null,
            "grid_template_rows": null,
            "height": null,
            "justify_content": null,
            "justify_items": null,
            "left": null,
            "margin": null,
            "max_height": null,
            "max_width": null,
            "min_height": null,
            "min_width": null,
            "object_fit": null,
            "object_position": null,
            "order": null,
            "overflow": null,
            "overflow_x": null,
            "overflow_y": null,
            "padding": null,
            "right": null,
            "top": null,
            "visibility": null,
            "width": null
          }
        },
        "585837866e2d4adeb8b03c8411ff1607": {
          "model_module": "@jupyter-widgets/base",
          "model_name": "LayoutModel",
          "model_module_version": "1.2.0",
          "state": {
            "_model_module": "@jupyter-widgets/base",
            "_model_module_version": "1.2.0",
            "_model_name": "LayoutModel",
            "_view_count": null,
            "_view_module": "@jupyter-widgets/base",
            "_view_module_version": "1.2.0",
            "_view_name": "LayoutView",
            "align_content": null,
            "align_items": null,
            "align_self": null,
            "border": null,
            "bottom": null,
            "display": null,
            "flex": null,
            "flex_flow": null,
            "grid_area": null,
            "grid_auto_columns": null,
            "grid_auto_flow": null,
            "grid_auto_rows": null,
            "grid_column": null,
            "grid_gap": null,
            "grid_row": null,
            "grid_template_areas": null,
            "grid_template_columns": null,
            "grid_template_rows": null,
            "height": null,
            "justify_content": null,
            "justify_items": null,
            "left": null,
            "margin": null,
            "max_height": null,
            "max_width": null,
            "min_height": null,
            "min_width": null,
            "object_fit": null,
            "object_position": null,
            "order": null,
            "overflow": null,
            "overflow_x": null,
            "overflow_y": null,
            "padding": null,
            "right": null,
            "top": null,
            "visibility": null,
            "width": null
          }
        },
        "43ab389bcc0045618e5e486d91d2e9b9": {
          "model_module": "@jupyter-widgets/controls",
          "model_name": "DescriptionStyleModel",
          "model_module_version": "1.5.0",
          "state": {
            "_model_module": "@jupyter-widgets/controls",
            "_model_module_version": "1.5.0",
            "_model_name": "DescriptionStyleModel",
            "_view_count": null,
            "_view_module": "@jupyter-widgets/base",
            "_view_module_version": "1.2.0",
            "_view_name": "StyleView",
            "description_width": ""
          }
        },
        "a2a3ff7094a9499eb13f8d894dbe099c": {
          "model_module": "@jupyter-widgets/base",
          "model_name": "LayoutModel",
          "model_module_version": "1.2.0",
          "state": {
            "_model_module": "@jupyter-widgets/base",
            "_model_module_version": "1.2.0",
            "_model_name": "LayoutModel",
            "_view_count": null,
            "_view_module": "@jupyter-widgets/base",
            "_view_module_version": "1.2.0",
            "_view_name": "LayoutView",
            "align_content": null,
            "align_items": null,
            "align_self": null,
            "border": null,
            "bottom": null,
            "display": null,
            "flex": null,
            "flex_flow": null,
            "grid_area": null,
            "grid_auto_columns": null,
            "grid_auto_flow": null,
            "grid_auto_rows": null,
            "grid_column": null,
            "grid_gap": null,
            "grid_row": null,
            "grid_template_areas": null,
            "grid_template_columns": null,
            "grid_template_rows": null,
            "height": null,
            "justify_content": null,
            "justify_items": null,
            "left": null,
            "margin": null,
            "max_height": null,
            "max_width": null,
            "min_height": null,
            "min_width": null,
            "object_fit": null,
            "object_position": null,
            "order": null,
            "overflow": null,
            "overflow_x": null,
            "overflow_y": null,
            "padding": null,
            "right": null,
            "top": null,
            "visibility": null,
            "width": null
          }
        },
        "2fe4276d7cd8416799a6b01c48e7d33b": {
          "model_module": "@jupyter-widgets/controls",
          "model_name": "ProgressStyleModel",
          "model_module_version": "1.5.0",
          "state": {
            "_model_module": "@jupyter-widgets/controls",
            "_model_module_version": "1.5.0",
            "_model_name": "ProgressStyleModel",
            "_view_count": null,
            "_view_module": "@jupyter-widgets/base",
            "_view_module_version": "1.2.0",
            "_view_name": "StyleView",
            "bar_color": null,
            "description_width": ""
          }
        },
        "a1379031079a42b39a9581a6c620806c": {
          "model_module": "@jupyter-widgets/base",
          "model_name": "LayoutModel",
          "model_module_version": "1.2.0",
          "state": {
            "_model_module": "@jupyter-widgets/base",
            "_model_module_version": "1.2.0",
            "_model_name": "LayoutModel",
            "_view_count": null,
            "_view_module": "@jupyter-widgets/base",
            "_view_module_version": "1.2.0",
            "_view_name": "LayoutView",
            "align_content": null,
            "align_items": null,
            "align_self": null,
            "border": null,
            "bottom": null,
            "display": null,
            "flex": null,
            "flex_flow": null,
            "grid_area": null,
            "grid_auto_columns": null,
            "grid_auto_flow": null,
            "grid_auto_rows": null,
            "grid_column": null,
            "grid_gap": null,
            "grid_row": null,
            "grid_template_areas": null,
            "grid_template_columns": null,
            "grid_template_rows": null,
            "height": null,
            "justify_content": null,
            "justify_items": null,
            "left": null,
            "margin": null,
            "max_height": null,
            "max_width": null,
            "min_height": null,
            "min_width": null,
            "object_fit": null,
            "object_position": null,
            "order": null,
            "overflow": null,
            "overflow_x": null,
            "overflow_y": null,
            "padding": null,
            "right": null,
            "top": null,
            "visibility": null,
            "width": null
          }
        },
        "fedbaef3476c402185e3c7e59c54dfff": {
          "model_module": "@jupyter-widgets/controls",
          "model_name": "DescriptionStyleModel",
          "model_module_version": "1.5.0",
          "state": {
            "_model_module": "@jupyter-widgets/controls",
            "_model_module_version": "1.5.0",
            "_model_name": "DescriptionStyleModel",
            "_view_count": null,
            "_view_module": "@jupyter-widgets/base",
            "_view_module_version": "1.2.0",
            "_view_name": "StyleView",
            "description_width": ""
          }
        }
      }
    },
    "accelerator": "GPU"
  },
  "nbformat": 4,
  "nbformat_minor": 0
}