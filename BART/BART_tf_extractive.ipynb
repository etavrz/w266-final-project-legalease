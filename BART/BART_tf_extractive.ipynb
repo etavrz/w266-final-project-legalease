{
  "nbformat": 4,
  "nbformat_minor": 0,
  "metadata": {
    "colab": {
      "provenance": [],
      "machine_shape": "hm",
      "gpuType": "T4"
    },
    "kernelspec": {
      "name": "python3",
      "display_name": "Python 3"
    },
    "language_info": {
      "name": "python"
    },
    "widgets": {
      "application/vnd.jupyter.widget-state+json": {
        "e742f8cda92844248f9757a8179c5847": {
          "model_module": "@jupyter-widgets/controls",
          "model_name": "HBoxModel",
          "model_module_version": "1.5.0",
          "state": {
            "_dom_classes": [],
            "_model_module": "@jupyter-widgets/controls",
            "_model_module_version": "1.5.0",
            "_model_name": "HBoxModel",
            "_view_count": null,
            "_view_module": "@jupyter-widgets/controls",
            "_view_module_version": "1.5.0",
            "_view_name": "HBoxView",
            "box_style": "",
            "children": [
              "IPY_MODEL_a935ee01911f41ccaad1182ca72ab475",
              "IPY_MODEL_9f9b03cabe65456994329c0193e76ba4",
              "IPY_MODEL_259e3fdcaae744578d11eff81856701d"
            ],
            "layout": "IPY_MODEL_7406ab6e47914fee87fbe9ac032ad59e"
          }
        },
        "a935ee01911f41ccaad1182ca72ab475": {
          "model_module": "@jupyter-widgets/controls",
          "model_name": "HTMLModel",
          "model_module_version": "1.5.0",
          "state": {
            "_dom_classes": [],
            "_model_module": "@jupyter-widgets/controls",
            "_model_module_version": "1.5.0",
            "_model_name": "HTMLModel",
            "_view_count": null,
            "_view_module": "@jupyter-widgets/controls",
            "_view_module_version": "1.5.0",
            "_view_name": "HTMLView",
            "description": "",
            "description_tooltip": null,
            "layout": "IPY_MODEL_046ad92d8d5c4796a39e16a52b345fee",
            "placeholder": "​",
            "style": "IPY_MODEL_ea5f6f89ddbc431396608d77b57a6791",
            "value": "Map: 100%"
          }
        },
        "9f9b03cabe65456994329c0193e76ba4": {
          "model_module": "@jupyter-widgets/controls",
          "model_name": "FloatProgressModel",
          "model_module_version": "1.5.0",
          "state": {
            "_dom_classes": [],
            "_model_module": "@jupyter-widgets/controls",
            "_model_module_version": "1.5.0",
            "_model_name": "FloatProgressModel",
            "_view_count": null,
            "_view_module": "@jupyter-widgets/controls",
            "_view_module_version": "1.5.0",
            "_view_name": "ProgressView",
            "bar_style": "success",
            "description": "",
            "description_tooltip": null,
            "layout": "IPY_MODEL_1abcc84bc3c841979e8daf404f4ea5b4",
            "max": 3388,
            "min": 0,
            "orientation": "horizontal",
            "style": "IPY_MODEL_3443d46d91c7472e84065e73319c036c",
            "value": 3388
          }
        },
        "259e3fdcaae744578d11eff81856701d": {
          "model_module": "@jupyter-widgets/controls",
          "model_name": "HTMLModel",
          "model_module_version": "1.5.0",
          "state": {
            "_dom_classes": [],
            "_model_module": "@jupyter-widgets/controls",
            "_model_module_version": "1.5.0",
            "_model_name": "HTMLModel",
            "_view_count": null,
            "_view_module": "@jupyter-widgets/controls",
            "_view_module_version": "1.5.0",
            "_view_name": "HTMLView",
            "description": "",
            "description_tooltip": null,
            "layout": "IPY_MODEL_6b23c25ef489446fac61bfd9c346e6bc",
            "placeholder": "​",
            "style": "IPY_MODEL_b9ede6d5f70347fda767e2588c6794dc",
            "value": " 3388/3388 [00:04&lt;00:00, 755.38 examples/s]"
          }
        },
        "7406ab6e47914fee87fbe9ac032ad59e": {
          "model_module": "@jupyter-widgets/base",
          "model_name": "LayoutModel",
          "model_module_version": "1.2.0",
          "state": {
            "_model_module": "@jupyter-widgets/base",
            "_model_module_version": "1.2.0",
            "_model_name": "LayoutModel",
            "_view_count": null,
            "_view_module": "@jupyter-widgets/base",
            "_view_module_version": "1.2.0",
            "_view_name": "LayoutView",
            "align_content": null,
            "align_items": null,
            "align_self": null,
            "border": null,
            "bottom": null,
            "display": null,
            "flex": null,
            "flex_flow": null,
            "grid_area": null,
            "grid_auto_columns": null,
            "grid_auto_flow": null,
            "grid_auto_rows": null,
            "grid_column": null,
            "grid_gap": null,
            "grid_row": null,
            "grid_template_areas": null,
            "grid_template_columns": null,
            "grid_template_rows": null,
            "height": null,
            "justify_content": null,
            "justify_items": null,
            "left": null,
            "margin": null,
            "max_height": null,
            "max_width": null,
            "min_height": null,
            "min_width": null,
            "object_fit": null,
            "object_position": null,
            "order": null,
            "overflow": null,
            "overflow_x": null,
            "overflow_y": null,
            "padding": null,
            "right": null,
            "top": null,
            "visibility": null,
            "width": null
          }
        },
        "046ad92d8d5c4796a39e16a52b345fee": {
          "model_module": "@jupyter-widgets/base",
          "model_name": "LayoutModel",
          "model_module_version": "1.2.0",
          "state": {
            "_model_module": "@jupyter-widgets/base",
            "_model_module_version": "1.2.0",
            "_model_name": "LayoutModel",
            "_view_count": null,
            "_view_module": "@jupyter-widgets/base",
            "_view_module_version": "1.2.0",
            "_view_name": "LayoutView",
            "align_content": null,
            "align_items": null,
            "align_self": null,
            "border": null,
            "bottom": null,
            "display": null,
            "flex": null,
            "flex_flow": null,
            "grid_area": null,
            "grid_auto_columns": null,
            "grid_auto_flow": null,
            "grid_auto_rows": null,
            "grid_column": null,
            "grid_gap": null,
            "grid_row": null,
            "grid_template_areas": null,
            "grid_template_columns": null,
            "grid_template_rows": null,
            "height": null,
            "justify_content": null,
            "justify_items": null,
            "left": null,
            "margin": null,
            "max_height": null,
            "max_width": null,
            "min_height": null,
            "min_width": null,
            "object_fit": null,
            "object_position": null,
            "order": null,
            "overflow": null,
            "overflow_x": null,
            "overflow_y": null,
            "padding": null,
            "right": null,
            "top": null,
            "visibility": null,
            "width": null
          }
        },
        "ea5f6f89ddbc431396608d77b57a6791": {
          "model_module": "@jupyter-widgets/controls",
          "model_name": "DescriptionStyleModel",
          "model_module_version": "1.5.0",
          "state": {
            "_model_module": "@jupyter-widgets/controls",
            "_model_module_version": "1.5.0",
            "_model_name": "DescriptionStyleModel",
            "_view_count": null,
            "_view_module": "@jupyter-widgets/base",
            "_view_module_version": "1.2.0",
            "_view_name": "StyleView",
            "description_width": ""
          }
        },
        "1abcc84bc3c841979e8daf404f4ea5b4": {
          "model_module": "@jupyter-widgets/base",
          "model_name": "LayoutModel",
          "model_module_version": "1.2.0",
          "state": {
            "_model_module": "@jupyter-widgets/base",
            "_model_module_version": "1.2.0",
            "_model_name": "LayoutModel",
            "_view_count": null,
            "_view_module": "@jupyter-widgets/base",
            "_view_module_version": "1.2.0",
            "_view_name": "LayoutView",
            "align_content": null,
            "align_items": null,
            "align_self": null,
            "border": null,
            "bottom": null,
            "display": null,
            "flex": null,
            "flex_flow": null,
            "grid_area": null,
            "grid_auto_columns": null,
            "grid_auto_flow": null,
            "grid_auto_rows": null,
            "grid_column": null,
            "grid_gap": null,
            "grid_row": null,
            "grid_template_areas": null,
            "grid_template_columns": null,
            "grid_template_rows": null,
            "height": null,
            "justify_content": null,
            "justify_items": null,
            "left": null,
            "margin": null,
            "max_height": null,
            "max_width": null,
            "min_height": null,
            "min_width": null,
            "object_fit": null,
            "object_position": null,
            "order": null,
            "overflow": null,
            "overflow_x": null,
            "overflow_y": null,
            "padding": null,
            "right": null,
            "top": null,
            "visibility": null,
            "width": null
          }
        },
        "3443d46d91c7472e84065e73319c036c": {
          "model_module": "@jupyter-widgets/controls",
          "model_name": "ProgressStyleModel",
          "model_module_version": "1.5.0",
          "state": {
            "_model_module": "@jupyter-widgets/controls",
            "_model_module_version": "1.5.0",
            "_model_name": "ProgressStyleModel",
            "_view_count": null,
            "_view_module": "@jupyter-widgets/base",
            "_view_module_version": "1.2.0",
            "_view_name": "StyleView",
            "bar_color": null,
            "description_width": ""
          }
        },
        "6b23c25ef489446fac61bfd9c346e6bc": {
          "model_module": "@jupyter-widgets/base",
          "model_name": "LayoutModel",
          "model_module_version": "1.2.0",
          "state": {
            "_model_module": "@jupyter-widgets/base",
            "_model_module_version": "1.2.0",
            "_model_name": "LayoutModel",
            "_view_count": null,
            "_view_module": "@jupyter-widgets/base",
            "_view_module_version": "1.2.0",
            "_view_name": "LayoutView",
            "align_content": null,
            "align_items": null,
            "align_self": null,
            "border": null,
            "bottom": null,
            "display": null,
            "flex": null,
            "flex_flow": null,
            "grid_area": null,
            "grid_auto_columns": null,
            "grid_auto_flow": null,
            "grid_auto_rows": null,
            "grid_column": null,
            "grid_gap": null,
            "grid_row": null,
            "grid_template_areas": null,
            "grid_template_columns": null,
            "grid_template_rows": null,
            "height": null,
            "justify_content": null,
            "justify_items": null,
            "left": null,
            "margin": null,
            "max_height": null,
            "max_width": null,
            "min_height": null,
            "min_width": null,
            "object_fit": null,
            "object_position": null,
            "order": null,
            "overflow": null,
            "overflow_x": null,
            "overflow_y": null,
            "padding": null,
            "right": null,
            "top": null,
            "visibility": null,
            "width": null
          }
        },
        "b9ede6d5f70347fda767e2588c6794dc": {
          "model_module": "@jupyter-widgets/controls",
          "model_name": "DescriptionStyleModel",
          "model_module_version": "1.5.0",
          "state": {
            "_model_module": "@jupyter-widgets/controls",
            "_model_module_version": "1.5.0",
            "_model_name": "DescriptionStyleModel",
            "_view_count": null,
            "_view_module": "@jupyter-widgets/base",
            "_view_module_version": "1.2.0",
            "_view_name": "StyleView",
            "description_width": ""
          }
        },
        "3fc1c9c87e2e445dba076289b49d42ea": {
          "model_module": "@jupyter-widgets/controls",
          "model_name": "HBoxModel",
          "model_module_version": "1.5.0",
          "state": {
            "_dom_classes": [],
            "_model_module": "@jupyter-widgets/controls",
            "_model_module_version": "1.5.0",
            "_model_name": "HBoxModel",
            "_view_count": null,
            "_view_module": "@jupyter-widgets/controls",
            "_view_module_version": "1.5.0",
            "_view_name": "HBoxView",
            "box_style": "",
            "children": [
              "IPY_MODEL_fc0e3dcc07b44bde9c14ca8f9a5644d3",
              "IPY_MODEL_bba658884c34433f8e4fce2cbef061e7",
              "IPY_MODEL_4bd0648886d54710abe15bcd4bf2aaf5"
            ],
            "layout": "IPY_MODEL_16a317e7433a4d5e9875b30e563c6af9"
          }
        },
        "fc0e3dcc07b44bde9c14ca8f9a5644d3": {
          "model_module": "@jupyter-widgets/controls",
          "model_name": "HTMLModel",
          "model_module_version": "1.5.0",
          "state": {
            "_dom_classes": [],
            "_model_module": "@jupyter-widgets/controls",
            "_model_module_version": "1.5.0",
            "_model_name": "HTMLModel",
            "_view_count": null,
            "_view_module": "@jupyter-widgets/controls",
            "_view_module_version": "1.5.0",
            "_view_name": "HTMLView",
            "description": "",
            "description_tooltip": null,
            "layout": "IPY_MODEL_f735c1fda8c54401b0ce445af66ce4b5",
            "placeholder": "​",
            "style": "IPY_MODEL_aa2270df6fbd43bfac182fff17c79d38",
            "value": "events.out.tfevents.1710869501.79eef9fcf5d9.12590.0: 100%"
          }
        },
        "bba658884c34433f8e4fce2cbef061e7": {
          "model_module": "@jupyter-widgets/controls",
          "model_name": "FloatProgressModel",
          "model_module_version": "1.5.0",
          "state": {
            "_dom_classes": [],
            "_model_module": "@jupyter-widgets/controls",
            "_model_module_version": "1.5.0",
            "_model_name": "FloatProgressModel",
            "_view_count": null,
            "_view_module": "@jupyter-widgets/controls",
            "_view_module_version": "1.5.0",
            "_view_name": "ProgressView",
            "bar_style": "success",
            "description": "",
            "description_tooltip": null,
            "layout": "IPY_MODEL_e1d48385642d442285bb5b1922cd1a34",
            "max": 16193,
            "min": 0,
            "orientation": "horizontal",
            "style": "IPY_MODEL_bf6f4310a8c34209a9cd8336ce99c2ff",
            "value": 16193
          }
        },
        "4bd0648886d54710abe15bcd4bf2aaf5": {
          "model_module": "@jupyter-widgets/controls",
          "model_name": "HTMLModel",
          "model_module_version": "1.5.0",
          "state": {
            "_dom_classes": [],
            "_model_module": "@jupyter-widgets/controls",
            "_model_module_version": "1.5.0",
            "_model_name": "HTMLModel",
            "_view_count": null,
            "_view_module": "@jupyter-widgets/controls",
            "_view_module_version": "1.5.0",
            "_view_name": "HTMLView",
            "description": "",
            "description_tooltip": null,
            "layout": "IPY_MODEL_bf307887e456468bae4f839cdf358445",
            "placeholder": "​",
            "style": "IPY_MODEL_394824c5bdf74b36bca828d2173c8c84",
            "value": " 16.2k/16.2k [00:00&lt;00:00, 124kB/s]"
          }
        },
        "16a317e7433a4d5e9875b30e563c6af9": {
          "model_module": "@jupyter-widgets/base",
          "model_name": "LayoutModel",
          "model_module_version": "1.2.0",
          "state": {
            "_model_module": "@jupyter-widgets/base",
            "_model_module_version": "1.2.0",
            "_model_name": "LayoutModel",
            "_view_count": null,
            "_view_module": "@jupyter-widgets/base",
            "_view_module_version": "1.2.0",
            "_view_name": "LayoutView",
            "align_content": null,
            "align_items": null,
            "align_self": null,
            "border": null,
            "bottom": null,
            "display": null,
            "flex": null,
            "flex_flow": null,
            "grid_area": null,
            "grid_auto_columns": null,
            "grid_auto_flow": null,
            "grid_auto_rows": null,
            "grid_column": null,
            "grid_gap": null,
            "grid_row": null,
            "grid_template_areas": null,
            "grid_template_columns": null,
            "grid_template_rows": null,
            "height": null,
            "justify_content": null,
            "justify_items": null,
            "left": null,
            "margin": null,
            "max_height": null,
            "max_width": null,
            "min_height": null,
            "min_width": null,
            "object_fit": null,
            "object_position": null,
            "order": null,
            "overflow": null,
            "overflow_x": null,
            "overflow_y": null,
            "padding": null,
            "right": null,
            "top": null,
            "visibility": null,
            "width": null
          }
        },
        "f735c1fda8c54401b0ce445af66ce4b5": {
          "model_module": "@jupyter-widgets/base",
          "model_name": "LayoutModel",
          "model_module_version": "1.2.0",
          "state": {
            "_model_module": "@jupyter-widgets/base",
            "_model_module_version": "1.2.0",
            "_model_name": "LayoutModel",
            "_view_count": null,
            "_view_module": "@jupyter-widgets/base",
            "_view_module_version": "1.2.0",
            "_view_name": "LayoutView",
            "align_content": null,
            "align_items": null,
            "align_self": null,
            "border": null,
            "bottom": null,
            "display": null,
            "flex": null,
            "flex_flow": null,
            "grid_area": null,
            "grid_auto_columns": null,
            "grid_auto_flow": null,
            "grid_auto_rows": null,
            "grid_column": null,
            "grid_gap": null,
            "grid_row": null,
            "grid_template_areas": null,
            "grid_template_columns": null,
            "grid_template_rows": null,
            "height": null,
            "justify_content": null,
            "justify_items": null,
            "left": null,
            "margin": null,
            "max_height": null,
            "max_width": null,
            "min_height": null,
            "min_width": null,
            "object_fit": null,
            "object_position": null,
            "order": null,
            "overflow": null,
            "overflow_x": null,
            "overflow_y": null,
            "padding": null,
            "right": null,
            "top": null,
            "visibility": null,
            "width": null
          }
        },
        "aa2270df6fbd43bfac182fff17c79d38": {
          "model_module": "@jupyter-widgets/controls",
          "model_name": "DescriptionStyleModel",
          "model_module_version": "1.5.0",
          "state": {
            "_model_module": "@jupyter-widgets/controls",
            "_model_module_version": "1.5.0",
            "_model_name": "DescriptionStyleModel",
            "_view_count": null,
            "_view_module": "@jupyter-widgets/base",
            "_view_module_version": "1.2.0",
            "_view_name": "StyleView",
            "description_width": ""
          }
        },
        "e1d48385642d442285bb5b1922cd1a34": {
          "model_module": "@jupyter-widgets/base",
          "model_name": "LayoutModel",
          "model_module_version": "1.2.0",
          "state": {
            "_model_module": "@jupyter-widgets/base",
            "_model_module_version": "1.2.0",
            "_model_name": "LayoutModel",
            "_view_count": null,
            "_view_module": "@jupyter-widgets/base",
            "_view_module_version": "1.2.0",
            "_view_name": "LayoutView",
            "align_content": null,
            "align_items": null,
            "align_self": null,
            "border": null,
            "bottom": null,
            "display": null,
            "flex": null,
            "flex_flow": null,
            "grid_area": null,
            "grid_auto_columns": null,
            "grid_auto_flow": null,
            "grid_auto_rows": null,
            "grid_column": null,
            "grid_gap": null,
            "grid_row": null,
            "grid_template_areas": null,
            "grid_template_columns": null,
            "grid_template_rows": null,
            "height": null,
            "justify_content": null,
            "justify_items": null,
            "left": null,
            "margin": null,
            "max_height": null,
            "max_width": null,
            "min_height": null,
            "min_width": null,
            "object_fit": null,
            "object_position": null,
            "order": null,
            "overflow": null,
            "overflow_x": null,
            "overflow_y": null,
            "padding": null,
            "right": null,
            "top": null,
            "visibility": null,
            "width": null
          }
        },
        "bf6f4310a8c34209a9cd8336ce99c2ff": {
          "model_module": "@jupyter-widgets/controls",
          "model_name": "ProgressStyleModel",
          "model_module_version": "1.5.0",
          "state": {
            "_model_module": "@jupyter-widgets/controls",
            "_model_module_version": "1.5.0",
            "_model_name": "ProgressStyleModel",
            "_view_count": null,
            "_view_module": "@jupyter-widgets/base",
            "_view_module_version": "1.2.0",
            "_view_name": "StyleView",
            "bar_color": null,
            "description_width": ""
          }
        },
        "bf307887e456468bae4f839cdf358445": {
          "model_module": "@jupyter-widgets/base",
          "model_name": "LayoutModel",
          "model_module_version": "1.2.0",
          "state": {
            "_model_module": "@jupyter-widgets/base",
            "_model_module_version": "1.2.0",
            "_model_name": "LayoutModel",
            "_view_count": null,
            "_view_module": "@jupyter-widgets/base",
            "_view_module_version": "1.2.0",
            "_view_name": "LayoutView",
            "align_content": null,
            "align_items": null,
            "align_self": null,
            "border": null,
            "bottom": null,
            "display": null,
            "flex": null,
            "flex_flow": null,
            "grid_area": null,
            "grid_auto_columns": null,
            "grid_auto_flow": null,
            "grid_auto_rows": null,
            "grid_column": null,
            "grid_gap": null,
            "grid_row": null,
            "grid_template_areas": null,
            "grid_template_columns": null,
            "grid_template_rows": null,
            "height": null,
            "justify_content": null,
            "justify_items": null,
            "left": null,
            "margin": null,
            "max_height": null,
            "max_width": null,
            "min_height": null,
            "min_width": null,
            "object_fit": null,
            "object_position": null,
            "order": null,
            "overflow": null,
            "overflow_x": null,
            "overflow_y": null,
            "padding": null,
            "right": null,
            "top": null,
            "visibility": null,
            "width": null
          }
        },
        "394824c5bdf74b36bca828d2173c8c84": {
          "model_module": "@jupyter-widgets/controls",
          "model_name": "DescriptionStyleModel",
          "model_module_version": "1.5.0",
          "state": {
            "_model_module": "@jupyter-widgets/controls",
            "_model_module_version": "1.5.0",
            "_model_name": "DescriptionStyleModel",
            "_view_count": null,
            "_view_module": "@jupyter-widgets/base",
            "_view_module_version": "1.2.0",
            "_view_name": "StyleView",
            "description_width": ""
          }
        }
      }
    },
    "accelerator": "GPU"
  },
  "cells": [
    {
      "cell_type": "code",
      "source": [
        "from google.colab import drive\n",
        "drive.mount(\"/content/drive\")"
      ],
      "metadata": {
        "id": "2LfoXAUbrs-z",
        "colab": {
          "base_uri": "https://localhost:8080/"
        },
        "outputId": "526a46ef-aa40-4cdb-de29-094665b15e7d"
      },
      "execution_count": null,
      "outputs": [
        {
          "output_type": "stream",
          "name": "stdout",
          "text": [
            "Drive already mounted at /content/drive; to attempt to forcibly remount, call drive.mount(\"/content/drive\", force_remount=True).\n"
          ]
        }
      ]
    },
    {
      "cell_type": "code",
      "execution_count": null,
      "metadata": {
        "id": "tRP5bkr4odyD",
        "colab": {
          "base_uri": "https://localhost:8080/"
        },
        "outputId": "fc755acb-3103-44b9-c8fc-39adc3db1e06"
      },
      "outputs": [
        {
          "output_type": "stream",
          "name": "stdout",
          "text": [
            "  Preparing metadata (setup.py) ... \u001b[?25l\u001b[?25hdone\n"
          ]
        }
      ],
      "source": [
        "!pip install pydot --quiet\n",
        "!pip install tensorflow==2.15.0 --quiet\n",
        "!pip install transformers --quiet\n",
        "!pip install sentencepiece --quiet\n",
        "!pip install datasets --quiet\n",
        "!pip install accelerate --quiet\n",
        "!pip install transformers[torch] --quiet\n",
        "!pip install evaluate --quiet\n",
        "!pip install rouge_score --quiet\n",
        "!pip install jiwer --quiet\n",
        "!pip install git+https://github.com/google-research/bleurt.git --quiet\n"
      ]
    },
    {
      "cell_type": "code",
      "source": [
        "import transformers\n",
        "from transformers import DataCollatorForSeq2Seq, AutoTokenizer, AutoModelForSeq2SeqLM, Seq2SeqTrainingArguments, Seq2SeqTrainer\n",
        "from datasets import load_dataset, load_from_disk\n",
        "import numpy as np\n",
        "import pandas as pd\n",
        "import accelerate\n",
        "import torch\n",
        "from torch.utils.data import Dataset\n",
        "from evaluate import load\n",
        "pd.set_option('display.max_colwidth', 0)"
      ],
      "metadata": {
        "id": "6ueLqD8BwqSf"
      },
      "execution_count": null,
      "outputs": []
    },
    {
      "cell_type": "code",
      "source": [
        "# ====== ENVIRONMENT ======\n",
        "DEV = False\n",
        "EXPLORE = False\n",
        "RANDOM_SEED = 42\n",
        "\n",
        "# ====== DATA =======\n",
        "EXTRACTED_TEXT_LEN = 1000\n",
        "INPUT_MAX_LENGTH = 1024\n",
        "LABEL_MAX_LENGTH = 128\n",
        "\n",
        "# ====== MODEL ======\n",
        "CHECKPOINT = \"facebook/bart-large\"\n",
        "PATH = '/content/drive/MyDrive/colab-notebooks/W266/'\n",
        "PEFT = False\n",
        "\n",
        "# ====== OPTIIZER =======\n",
        "OPTIMIZER = \"adamw_bnb_8bit\"\n",
        "LEARNING_RATE = 2e-5\n",
        "WEIGHT_DECAY = 0.01\n",
        "\n",
        "# ====== TRAINING ======\n",
        "EVAL_STRATEGY = \"steps\"\n",
        "BATCH_SIZE = 6\n",
        "EPOCHS = 2\n",
        "SAVE_STEPS = 100 if DEV else 1000\n",
        "EVAL_STEPS = 100 if DEV else 250\n",
        "LOGGING_STEPS = 100 if DEV else 500\n",
        "METRIC_WER = load(\"wer\")\n",
        "METRIC_ROUGE = load(\"rouge\")\n",
        "METRIC_BLEURT = load('bleurt', module_type = 'metric', checkpoint = \"bleurt-base-512\")"
      ],
      "metadata": {
        "colab": {
          "base_uri": "https://localhost:8080/",
          "height": 54
        },
        "id": "osEz8n5OfCNh",
        "outputId": "e8f54a2f-ae58-4a77-cbc5-ef62e3deef63"
      },
      "execution_count": null,
      "outputs": [
        {
          "output_type": "stream",
          "name": "stderr",
          "text": [
            "WARNING:evaluate_modules.metrics.evaluate-metric--bleurt.98e148b2f8c4a88aba5037e4e0e90c9fd9ec35dc37a054ded8cfef0fa801ffab.bleurt:Using default BLEURT-Base checkpoint for sequence maximum length 128. You can use a bigger model for better results with e.g.: evaluate.load('bleurt', 'bleurt-large-512').\n"
          ]
        }
      ]
    },
    {
      "cell_type": "code",
      "source": [
        "with open(\"/content/drive/MyDrive/Colab Notebooks/W266/huggingface_credentials.txt\", \"r\") as f:\n",
        "    HF_TOKEN = f.read()\n"
      ],
      "metadata": {
        "id": "BfX_aHJPd8TW"
      },
      "execution_count": null,
      "outputs": []
    },
    {
      "cell_type": "code",
      "source": [
        "df = load_dataset(\"jordanfan/processed_us_congress_117_bills_v2\")"
      ],
      "metadata": {
        "colab": {
          "base_uri": "https://localhost:8080/"
        },
        "id": "6Jt-ozNaB43C",
        "outputId": "84ea7793-01c6-4fe7-9c69-2d39c5a5cd39"
      },
      "execution_count": null,
      "outputs": [
        {
          "output_type": "stream",
          "name": "stderr",
          "text": [
            "/usr/local/lib/python3.10/dist-packages/huggingface_hub/utils/_token.py:88: UserWarning: \n",
            "The secret `HF_TOKEN` does not exist in your Colab secrets.\n",
            "To authenticate with the Hugging Face Hub, create a token in your settings tab (https://huggingface.co/settings/tokens), set it as secret in your Google Colab and restart your session.\n",
            "You will be able to reuse this secret in all of your notebooks.\n",
            "Please note that authentication is recommended but still optional to access public models or datasets.\n",
            "  warnings.warn(\n"
          ]
        }
      ]
    },
    {
      "cell_type": "code",
      "source": [
        "tokenizer = AutoTokenizer.from_pretrained(CHECKPOINT)\n",
        "def model_init():\n",
        "  seed = 42\n",
        "  torch.manual_seed(seed)\n",
        "  return AutoModelForSeq2SeqLM.from_pretrained(CHECKPOINT)\n",
        "#model = AutoModelForSeq2SeqLM.from_pretrained(CHECKPOINT)\n"
      ],
      "metadata": {
        "id": "wx3FikrJKUf-"
      },
      "execution_count": null,
      "outputs": []
    },
    {
      "cell_type": "code",
      "source": [
        "def preprocess_data_extracted(df):\n",
        "  if EXTRACTED_TEXT_LEN == 500:\n",
        "    input = [doc for doc in df[\"extracted_text\"]]\n",
        "  else:\n",
        "    input = [doc for doc in df[f\"extracted_text_{EXTRACTED_TEXT_LEN}\"]]\n",
        "  #tokenize full text\n",
        "  model_inputs = tokenizer(input, max_length=INPUT_MAX_LENGTH, padding=True, truncation=True)\n",
        "  #tokenize the summaries\n",
        "  summary_input = [doc for doc in df[\"cleaned_summary\"]]\n",
        "  targets = tokenizer(text_target = summary_input, max_length=LABEL_MAX_LENGTH, padding= True, truncation=True)\n",
        "  #set labels\n",
        "  model_inputs['labels'] = targets['input_ids']\n",
        "  return model_inputs\n"
      ],
      "metadata": {
        "id": "L6iihk5BKWtx"
      },
      "execution_count": null,
      "outputs": []
    },
    {
      "cell_type": "code",
      "source": [
        "tokenized_data_extracted = df.map(preprocess_data_extracted, batched = True)"
      ],
      "metadata": {
        "colab": {
          "base_uri": "https://localhost:8080/",
          "height": 49,
          "referenced_widgets": [
            "e742f8cda92844248f9757a8179c5847",
            "a935ee01911f41ccaad1182ca72ab475",
            "9f9b03cabe65456994329c0193e76ba4",
            "259e3fdcaae744578d11eff81856701d",
            "7406ab6e47914fee87fbe9ac032ad59e",
            "046ad92d8d5c4796a39e16a52b345fee",
            "ea5f6f89ddbc431396608d77b57a6791",
            "1abcc84bc3c841979e8daf404f4ea5b4",
            "3443d46d91c7472e84065e73319c036c",
            "6b23c25ef489446fac61bfd9c346e6bc",
            "b9ede6d5f70347fda767e2588c6794dc"
          ]
        },
        "id": "8cmbMNXFTsNK",
        "outputId": "3e5eac0d-0088-4b52-86ad-c4bee7de055f"
      },
      "execution_count": null,
      "outputs": [
        {
          "output_type": "display_data",
          "data": {
            "text/plain": [
              "Map:   0%|          | 0/3388 [00:00<?, ? examples/s]"
            ],
            "application/vnd.jupyter.widget-view+json": {
              "version_major": 2,
              "version_minor": 0,
              "model_id": "e742f8cda92844248f9757a8179c5847"
            }
          },
          "metadata": {}
        }
      ]
    },
    {
      "cell_type": "code",
      "source": [
        "data_collator = DataCollatorForSeq2Seq(tokenizer=tokenizer, model=CHECKPOINT)"
      ],
      "metadata": {
        "id": "XDBamfqKt81v"
      },
      "execution_count": null,
      "outputs": []
    },
    {
      "cell_type": "code",
      "source": [
        "def compute_metrics(pred):\n",
        "\n",
        "    labels_ids = pred.label_ids\n",
        "    pred_ids = pred.predictions[0]\n",
        "\n",
        "    pred_str = tokenizer.batch_decode(pred_ids, skip_special_tokens=True)\n",
        "    labels_ids[labels_ids == -100] = tokenizer.pad_token_id\n",
        "    label_str = tokenizer.batch_decode(labels_ids, skip_special_tokens=True)\n",
        "\n",
        "    result_wer = METRIC_WER.compute(predictions=pred_str, references=label_str)\n",
        "    result_rouge = METRIC_ROUGE.compute(predictions=pred_str, references=label_str, use_stemmer=True, use_aggregator=True)\n",
        "    result_rouge = {key: value for key, value in result_rouge.items()}\n",
        "    result_bleurt = METRIC_BLEURT.compute(predictions = pred_str, references = label_str)\n",
        "\n",
        "    results = {key: value for key, value in result_rouge.items()}\n",
        "    results[\"WER\"] = result_wer\n",
        "    results[\"bleurt\"] = result_bleurt[\"scores\"][0]\n",
        "    return {k: round(v, 4) for k,v in results.items()}\n",
        "\n",
        "def preprocess_logits_for_metrics(logits, labels):\n",
        "    \"\"\"\n",
        "    Original Trainer may have a memory leak.\n",
        "    This is a workaround to avoid storing too many tensors that are not needed.\n",
        "    \"\"\"\n",
        "    pred_ids = torch.argmax(logits[0], dim=-1)\n",
        "    return pred_ids, labels"
      ],
      "metadata": {
        "id": "6jFp0NHMcRec"
      },
      "execution_count": null,
      "outputs": []
    },
    {
      "cell_type": "code",
      "source": [
        "args = Seq2SeqTrainingArguments(\n",
        "    output_dir = f\"jordanfan/bart_extractive_{INPUT_MAX_LENGTH}_{EXTRACTED_TEXT_LEN}\",\n",
        "    evaluation_strategy=EVAL_STRATEGY,\n",
        "    save_strategy=EVAL_STRATEGY,\n",
        "    save_steps=SAVE_STEPS,\n",
        "    eval_steps=EVAL_STEPS,\n",
        "    learning_rate=LEARNING_RATE,\n",
        "    per_device_train_batch_size=BATCH_SIZE,\n",
        "    per_device_eval_batch_size=BATCH_SIZE,\n",
        "    weight_decay=WEIGHT_DECAY,\n",
        "#    eval_accumulation_steps=16,\n",
        "    load_best_model_at_end=True,\n",
        "    num_train_epochs=EPOCHS,\n",
        "    # predict_with_generate=True,\n",
        "    fp16=True,\n",
        "    report_to=[\"tensorboard\"],\n",
        "    push_to_hub=True,\n",
        "    hub_token=HF_TOKEN\n",
        "    )\n",
        "\n",
        "trainer = Seq2SeqTrainer(\n",
        "    #model = model,\n",
        "    model_init=model_init,\n",
        "    args = args,\n",
        "    train_dataset=tokenized_data_extracted[\"train\"],\n",
        "    eval_dataset=tokenized_data_extracted[\"val\"],\n",
        "    tokenizer=tokenizer,\n",
        "    data_collator = data_collator,\n",
        "    compute_metrics = compute_metrics,\n",
        "    preprocess_logits_for_metrics = preprocess_logits_for_metrics\n",
        ")\n",
        "\n",
        "trainer.train()"
      ],
      "metadata": {
        "colab": {
          "base_uri": "https://localhost:8080/",
          "height": 774
        },
        "id": "fF0tLU8-TycZ",
        "outputId": "0c167392-e8b8-4a7a-e07e-a073a2fba9c1"
      },
      "execution_count": null,
      "outputs": [
        {
          "output_type": "stream",
          "name": "stderr",
          "text": [
            "/usr/local/lib/python3.10/dist-packages/accelerate/accelerator.py:432: FutureWarning: Passing the following arguments to `Accelerator` is deprecated and will be removed in version 1.0 of Accelerate: dict_keys(['dispatch_batches', 'split_batches', 'even_batches', 'use_seedable_sampler']). Please pass an `accelerate.DataLoaderConfiguration` instead: \n",
            "dataloader_config = DataLoaderConfiguration(dispatch_batches=None, split_batches=False, even_batches=True, use_seedable_sampler=True)\n",
            "  warnings.warn(\n"
          ]
        },
        {
          "output_type": "display_data",
          "data": {
            "text/plain": [
              "<IPython.core.display.HTML object>"
            ],
            "text/html": [
              "\n",
              "    <div>\n",
              "      \n",
              "      <progress value='3760' max='3760' style='width:300px; height:20px; vertical-align: middle;'></progress>\n",
              "      [3760/3760 1:45:27, Epoch 2/2]\n",
              "    </div>\n",
              "    <table border=\"1\" class=\"dataframe\">\n",
              "  <thead>\n",
              " <tr style=\"text-align: left;\">\n",
              "      <th>Step</th>\n",
              "      <th>Training Loss</th>\n",
              "      <th>Validation Loss</th>\n",
              "      <th>Rouge1</th>\n",
              "      <th>Rouge2</th>\n",
              "      <th>Rougel</th>\n",
              "      <th>Rougelsum</th>\n",
              "      <th>Wer</th>\n",
              "      <th>Bleurt</th>\n",
              "    </tr>\n",
              "  </thead>\n",
              "  <tbody>\n",
              "    <tr>\n",
              "      <td>250</td>\n",
              "      <td>No log</td>\n",
              "      <td>1.136153</td>\n",
              "      <td>0.671300</td>\n",
              "      <td>0.406400</td>\n",
              "      <td>0.611300</td>\n",
              "      <td>0.611100</td>\n",
              "      <td>0.477400</td>\n",
              "      <td>-0.111800</td>\n",
              "    </tr>\n",
              "    <tr>\n",
              "      <td>500</td>\n",
              "      <td>2.045400</td>\n",
              "      <td>1.033698</td>\n",
              "      <td>0.686900</td>\n",
              "      <td>0.430100</td>\n",
              "      <td>0.628900</td>\n",
              "      <td>0.628800</td>\n",
              "      <td>0.455500</td>\n",
              "      <td>-0.173400</td>\n",
              "    </tr>\n",
              "    <tr>\n",
              "      <td>750</td>\n",
              "      <td>2.045400</td>\n",
              "      <td>1.000227</td>\n",
              "      <td>0.701700</td>\n",
              "      <td>0.446500</td>\n",
              "      <td>0.643500</td>\n",
              "      <td>0.643400</td>\n",
              "      <td>0.446700</td>\n",
              "      <td>-0.357000</td>\n",
              "    </tr>\n",
              "    <tr>\n",
              "      <td>1000</td>\n",
              "      <td>1.098700</td>\n",
              "      <td>0.974688</td>\n",
              "      <td>0.700800</td>\n",
              "      <td>0.446900</td>\n",
              "      <td>0.642300</td>\n",
              "      <td>0.642200</td>\n",
              "      <td>0.442000</td>\n",
              "      <td>-0.067900</td>\n",
              "    </tr>\n",
              "    <tr>\n",
              "      <td>1250</td>\n",
              "      <td>1.098700</td>\n",
              "      <td>0.958931</td>\n",
              "      <td>0.709200</td>\n",
              "      <td>0.456000</td>\n",
              "      <td>0.652100</td>\n",
              "      <td>0.652000</td>\n",
              "      <td>0.436300</td>\n",
              "      <td>0.266900</td>\n",
              "    </tr>\n",
              "    <tr>\n",
              "      <td>1500</td>\n",
              "      <td>1.041800</td>\n",
              "      <td>0.955120</td>\n",
              "      <td>0.704000</td>\n",
              "      <td>0.453800</td>\n",
              "      <td>0.648600</td>\n",
              "      <td>0.648500</td>\n",
              "      <td>0.434300</td>\n",
              "      <td>-0.144700</td>\n",
              "    </tr>\n",
              "    <tr>\n",
              "      <td>1750</td>\n",
              "      <td>1.041800</td>\n",
              "      <td>0.931632</td>\n",
              "      <td>0.709600</td>\n",
              "      <td>0.460500</td>\n",
              "      <td>0.654600</td>\n",
              "      <td>0.654400</td>\n",
              "      <td>0.428500</td>\n",
              "      <td>-0.046500</td>\n",
              "    </tr>\n",
              "    <tr>\n",
              "      <td>2000</td>\n",
              "      <td>1.003100</td>\n",
              "      <td>0.915011</td>\n",
              "      <td>0.712900</td>\n",
              "      <td>0.465300</td>\n",
              "      <td>0.658400</td>\n",
              "      <td>0.658300</td>\n",
              "      <td>0.425500</td>\n",
              "      <td>-0.106900</td>\n",
              "    </tr>\n",
              "    <tr>\n",
              "      <td>2250</td>\n",
              "      <td>1.003100</td>\n",
              "      <td>0.909404</td>\n",
              "      <td>0.711900</td>\n",
              "      <td>0.465800</td>\n",
              "      <td>0.657700</td>\n",
              "      <td>0.657600</td>\n",
              "      <td>0.423400</td>\n",
              "      <td>-0.406200</td>\n",
              "    </tr>\n",
              "    <tr>\n",
              "      <td>2500</td>\n",
              "      <td>0.905200</td>\n",
              "      <td>0.910144</td>\n",
              "      <td>0.721000</td>\n",
              "      <td>0.473600</td>\n",
              "      <td>0.666500</td>\n",
              "      <td>0.666400</td>\n",
              "      <td>0.420600</td>\n",
              "      <td>0.220100</td>\n",
              "    </tr>\n",
              "    <tr>\n",
              "      <td>2750</td>\n",
              "      <td>0.905200</td>\n",
              "      <td>0.898252</td>\n",
              "      <td>0.716100</td>\n",
              "      <td>0.471000</td>\n",
              "      <td>0.661900</td>\n",
              "      <td>0.661800</td>\n",
              "      <td>0.418400</td>\n",
              "      <td>0.011700</td>\n",
              "    </tr>\n",
              "    <tr>\n",
              "      <td>3000</td>\n",
              "      <td>0.904500</td>\n",
              "      <td>0.891725</td>\n",
              "      <td>0.721600</td>\n",
              "      <td>0.476200</td>\n",
              "      <td>0.667500</td>\n",
              "      <td>0.667400</td>\n",
              "      <td>0.416900</td>\n",
              "      <td>0.234600</td>\n",
              "    </tr>\n",
              "    <tr>\n",
              "      <td>3250</td>\n",
              "      <td>0.904500</td>\n",
              "      <td>0.890567</td>\n",
              "      <td>0.716700</td>\n",
              "      <td>0.474000</td>\n",
              "      <td>0.664300</td>\n",
              "      <td>0.664200</td>\n",
              "      <td>0.415300</td>\n",
              "      <td>-0.067900</td>\n",
              "    </tr>\n",
              "    <tr>\n",
              "      <td>3500</td>\n",
              "      <td>0.876700</td>\n",
              "      <td>0.879695</td>\n",
              "      <td>0.723200</td>\n",
              "      <td>0.478700</td>\n",
              "      <td>0.669800</td>\n",
              "      <td>0.669700</td>\n",
              "      <td>0.414100</td>\n",
              "      <td>0.234600</td>\n",
              "    </tr>\n",
              "    <tr>\n",
              "      <td>3750</td>\n",
              "      <td>0.876700</td>\n",
              "      <td>0.880199</td>\n",
              "      <td>0.721500</td>\n",
              "      <td>0.477300</td>\n",
              "      <td>0.668000</td>\n",
              "      <td>0.668000</td>\n",
              "      <td>0.413700</td>\n",
              "      <td>-0.027000</td>\n",
              "    </tr>\n",
              "  </tbody>\n",
              "</table><p>"
            ]
          },
          "metadata": {}
        },
        {
          "output_type": "stream",
          "name": "stderr",
          "text": [
            "Some non-default generation parameters are set in the model config. These should go into a GenerationConfig file (https://huggingface.co/docs/transformers/generation_strategies#save-a-custom-decoding-strategy-with-your-model) instead. This warning will be raised to an exception in v4.41.\n",
            "Non-default generation parameters: {'early_stopping': True, 'num_beams': 4, 'no_repeat_ngram_size': 3, 'forced_bos_token_id': 0, 'forced_eos_token_id': 2}\n",
            "Some non-default generation parameters are set in the model config. These should go into a GenerationConfig file (https://huggingface.co/docs/transformers/generation_strategies#save-a-custom-decoding-strategy-with-your-model) instead. This warning will be raised to an exception in v4.41.\n",
            "Non-default generation parameters: {'early_stopping': True, 'num_beams': 4, 'no_repeat_ngram_size': 3, 'forced_bos_token_id': 0, 'forced_eos_token_id': 2}\n",
            "Some non-default generation parameters are set in the model config. These should go into a GenerationConfig file (https://huggingface.co/docs/transformers/generation_strategies#save-a-custom-decoding-strategy-with-your-model) instead. This warning will be raised to an exception in v4.41.\n",
            "Non-default generation parameters: {'early_stopping': True, 'num_beams': 4, 'no_repeat_ngram_size': 3, 'forced_bos_token_id': 0, 'forced_eos_token_id': 2}\n",
            "There were missing keys in the checkpoint model loaded: ['model.encoder.embed_tokens.weight', 'model.decoder.embed_tokens.weight', 'lm_head.weight'].\n"
          ]
        },
        {
          "output_type": "execute_result",
          "data": {
            "text/plain": [
              "TrainOutput(global_step=3760, training_loss=1.1074390979523354, metrics={'train_runtime': 6329.0644, 'train_samples_per_second': 3.564, 'train_steps_per_second': 0.594, 'total_flos': 4.887687719603405e+16, 'train_loss': 1.1074390979523354, 'epoch': 2.0})"
            ]
          },
          "metadata": {},
          "execution_count": 12
        }
      ]
    },
    {
      "cell_type": "code",
      "source": [
        "trainer.create_model_card(\n",
        "    language='english',\n",
        "    model_name=f\"bart-extractive-{INPUT_MAX_LENGTH}-{EXTRACTED_TEXT_LEN}\",\n",
        "    tasks='summarization',\n",
        "    tags='summarization',\n",
        "    dataset='jordanfan/processed_us_congress_117_bills_v2',\n",
        "    dataset_args=f\"Max token input: {INPUT_MAX_LENGTH} | {LABEL_MAX_LENGTH}\"\n",
        ")\n",
        "\n",
        "commit_msg = f\"training completed[dev]: {INPUT_MAX_LENGTH} {LABEL_MAX_LENGTH}\"\n",
        "trainer.push_to_hub(commit_message=commit_msg)"
      ],
      "metadata": {
        "id": "Pn13ZNiLoObv",
        "colab": {
          "base_uri": "https://localhost:8080/",
          "height": 138,
          "referenced_widgets": [
            "3fc1c9c87e2e445dba076289b49d42ea",
            "fc0e3dcc07b44bde9c14ca8f9a5644d3",
            "bba658884c34433f8e4fce2cbef061e7",
            "4bd0648886d54710abe15bcd4bf2aaf5",
            "16a317e7433a4d5e9875b30e563c6af9",
            "f735c1fda8c54401b0ce445af66ce4b5",
            "aa2270df6fbd43bfac182fff17c79d38",
            "e1d48385642d442285bb5b1922cd1a34",
            "bf6f4310a8c34209a9cd8336ce99c2ff",
            "bf307887e456468bae4f839cdf358445",
            "394824c5bdf74b36bca828d2173c8c84"
          ]
        },
        "outputId": "9b254aed-060b-45d6-cf33-356379ffcba9"
      },
      "execution_count": null,
      "outputs": [
        {
          "output_type": "stream",
          "name": "stderr",
          "text": [
            "Some non-default generation parameters are set in the model config. These should go into a GenerationConfig file (https://huggingface.co/docs/transformers/generation_strategies#save-a-custom-decoding-strategy-with-your-model) instead. This warning will be raised to an exception in v4.41.\n",
            "Non-default generation parameters: {'early_stopping': True, 'num_beams': 4, 'no_repeat_ngram_size': 3, 'forced_bos_token_id': 0, 'forced_eos_token_id': 2}\n"
          ]
        },
        {
          "output_type": "display_data",
          "data": {
            "text/plain": [
              "events.out.tfevents.1710869501.79eef9fcf5d9.12590.0:   0%|          | 0.00/16.2k [00:00<?, ?B/s]"
            ],
            "application/vnd.jupyter.widget-view+json": {
              "version_major": 2,
              "version_minor": 0,
              "model_id": "3fc1c9c87e2e445dba076289b49d42ea"
            }
          },
          "metadata": {}
        },
        {
          "output_type": "execute_result",
          "data": {
            "text/plain": [
              "CommitInfo(commit_url='https://huggingface.co/jordanfan/bart_extractive_1024_1000/commit/4f35d3348c2660e860f79b0bdfea37bb5b21383a', commit_message='training completed[dev]: 1024 128', commit_description='', oid='4f35d3348c2660e860f79b0bdfea37bb5b21383a', pr_url=None, pr_revision=None, pr_num=None)"
            ],
            "application/vnd.google.colaboratory.intrinsic+json": {
              "type": "string"
            }
          },
          "metadata": {},
          "execution_count": 13
        }
      ]
    },
    {
      "cell_type": "code",
      "source": [
        "predict_results = trainer.predict(tokenized_data_extracted[\"test\"])\n",
        "trainer.save_metrics(f\"test_extractive_{INPUT_MAX_LENGTH}_{EXTRACTED_TEXT_LEN}\", predict_results.metrics)"
      ],
      "metadata": {
        "id": "XCEzQpB7YZwu",
        "colab": {
          "base_uri": "https://localhost:8080/",
          "height": 17
        },
        "outputId": "59444ae0-67f0-4528-f369-734ebf4bfeab"
      },
      "execution_count": null,
      "outputs": [
        {
          "output_type": "display_data",
          "data": {
            "text/plain": [
              "<IPython.core.display.HTML object>"
            ],
            "text/html": []
          },
          "metadata": {}
        }
      ]
    }
  ]
}